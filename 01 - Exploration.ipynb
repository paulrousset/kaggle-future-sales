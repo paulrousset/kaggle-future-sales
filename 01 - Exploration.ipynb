{
 "cells": [
  {
   "cell_type": "code",
   "execution_count": 222,
   "id": "3111d80e-7bf4-4660-981d-4689d9e3704d",
   "metadata": {},
   "outputs": [],
   "source": [
    "import pandas as pd\n",
    "import numpy as np\n",
    "import matplotlib.pyplot as plt\n",
    "import seaborn as sns\n",
    "import json\n",
    "import time\n",
    "from statsmodels.tsa.seasonal import seasonal_decompose\n",
    "\n",
    "from utils import plot_quantiles, plot_barplots, plot_horizontal_barplots, get_quantiles_from_values, categories_english, shops_english"
   ]
  },
  {
   "cell_type": "markdown",
   "id": "64aad774-0bc2-4863-b694-4b0ec9a6c768",
   "metadata": {},
   "source": [
    "---"
   ]
  },
  {
   "cell_type": "markdown",
   "id": "50e97389-8069-4639-8c95-53b0a53cf733",
   "metadata": {},
   "source": [
    "# Loading Data"
   ]
  },
  {
   "cell_type": "markdown",
   "id": "68bb6789-cb6f-45a9-8fc8-096c047c277c",
   "metadata": {},
   "source": [
    "---"
   ]
  },
  {
   "cell_type": "markdown",
   "id": "06e252e8-f75f-4064-b32f-3c1c6c103f88",
   "metadata": {},
   "source": [
    "### Main Data File"
   ]
  },
  {
   "cell_type": "code",
   "execution_count": 223,
   "id": "ae6597d7-c0f8-4e9f-b05f-44700bc11afd",
   "metadata": {},
   "outputs": [
    {
     "data": {
      "text/plain": [
       "(2935849, 6)"
      ]
     },
     "execution_count": 223,
     "metadata": {},
     "output_type": "execute_result"
    }
   ],
   "source": [
    "train = pd.read_csv('data/sales_train.csv')\n",
    "train.shape"
   ]
  },
  {
   "cell_type": "code",
   "execution_count": 224,
   "id": "df287dba-d63f-4a6c-a824-41811da02dc6",
   "metadata": {},
   "outputs": [
    {
     "data": {
      "text/html": [
       "<div>\n",
       "<style scoped>\n",
       "    .dataframe tbody tr th:only-of-type {\n",
       "        vertical-align: middle;\n",
       "    }\n",
       "\n",
       "    .dataframe tbody tr th {\n",
       "        vertical-align: top;\n",
       "    }\n",
       "\n",
       "    .dataframe thead th {\n",
       "        text-align: right;\n",
       "    }\n",
       "</style>\n",
       "<table border=\"1\" class=\"dataframe\">\n",
       "  <thead>\n",
       "    <tr style=\"text-align: right;\">\n",
       "      <th></th>\n",
       "      <th>date</th>\n",
       "      <th>date_block_num</th>\n",
       "      <th>shop_id</th>\n",
       "      <th>item_id</th>\n",
       "      <th>item_price</th>\n",
       "      <th>item_cnt_day</th>\n",
       "    </tr>\n",
       "  </thead>\n",
       "  <tbody>\n",
       "    <tr>\n",
       "      <th>0</th>\n",
       "      <td>02.01.2013</td>\n",
       "      <td>0</td>\n",
       "      <td>59</td>\n",
       "      <td>22154</td>\n",
       "      <td>999.00</td>\n",
       "      <td>1.0</td>\n",
       "    </tr>\n",
       "    <tr>\n",
       "      <th>1</th>\n",
       "      <td>03.01.2013</td>\n",
       "      <td>0</td>\n",
       "      <td>25</td>\n",
       "      <td>2552</td>\n",
       "      <td>899.00</td>\n",
       "      <td>1.0</td>\n",
       "    </tr>\n",
       "    <tr>\n",
       "      <th>2</th>\n",
       "      <td>05.01.2013</td>\n",
       "      <td>0</td>\n",
       "      <td>25</td>\n",
       "      <td>2552</td>\n",
       "      <td>899.00</td>\n",
       "      <td>-1.0</td>\n",
       "    </tr>\n",
       "    <tr>\n",
       "      <th>3</th>\n",
       "      <td>06.01.2013</td>\n",
       "      <td>0</td>\n",
       "      <td>25</td>\n",
       "      <td>2554</td>\n",
       "      <td>1709.05</td>\n",
       "      <td>1.0</td>\n",
       "    </tr>\n",
       "    <tr>\n",
       "      <th>4</th>\n",
       "      <td>15.01.2013</td>\n",
       "      <td>0</td>\n",
       "      <td>25</td>\n",
       "      <td>2555</td>\n",
       "      <td>1099.00</td>\n",
       "      <td>1.0</td>\n",
       "    </tr>\n",
       "  </tbody>\n",
       "</table>\n",
       "</div>"
      ],
      "text/plain": [
       "         date  date_block_num  shop_id  item_id  item_price  item_cnt_day\n",
       "0  02.01.2013               0       59    22154      999.00           1.0\n",
       "1  03.01.2013               0       25     2552      899.00           1.0\n",
       "2  05.01.2013               0       25     2552      899.00          -1.0\n",
       "3  06.01.2013               0       25     2554     1709.05           1.0\n",
       "4  15.01.2013               0       25     2555     1099.00           1.0"
      ]
     },
     "execution_count": 224,
     "metadata": {},
     "output_type": "execute_result"
    }
   ],
   "source": [
    "train.head()"
   ]
  },
  {
   "cell_type": "markdown",
   "id": "02a315f2-af3b-417c-b064-091dd8281a7a",
   "metadata": {},
   "source": [
    "### Items Data"
   ]
  },
  {
   "cell_type": "code",
   "execution_count": 225,
   "id": "02a3b838-1035-40a6-a99e-dfdb39f79b82",
   "metadata": {},
   "outputs": [
    {
     "data": {
      "text/plain": [
       "(22170, 4)"
      ]
     },
     "execution_count": 225,
     "metadata": {},
     "output_type": "execute_result"
    }
   ],
   "source": [
    "items = pd.read_csv('data/items_en.csv')\n",
    "items.shape"
   ]
  },
  {
   "cell_type": "code",
   "execution_count": 226,
   "id": "43332712-8df0-4db9-b39c-fae5762f840b",
   "metadata": {},
   "outputs": [
    {
     "data": {
      "text/html": [
       "<div>\n",
       "<style scoped>\n",
       "    .dataframe tbody tr th:only-of-type {\n",
       "        vertical-align: middle;\n",
       "    }\n",
       "\n",
       "    .dataframe tbody tr th {\n",
       "        vertical-align: top;\n",
       "    }\n",
       "\n",
       "    .dataframe thead th {\n",
       "        text-align: right;\n",
       "    }\n",
       "</style>\n",
       "<table border=\"1\" class=\"dataframe\">\n",
       "  <thead>\n",
       "    <tr style=\"text-align: right;\">\n",
       "      <th></th>\n",
       "      <th>item_name</th>\n",
       "      <th>item_id</th>\n",
       "      <th>item_category_id</th>\n",
       "      <th>item_name_en</th>\n",
       "    </tr>\n",
       "  </thead>\n",
       "  <tbody>\n",
       "    <tr>\n",
       "      <th>0</th>\n",
       "      <td>! ВО ВЛАСТИ НАВАЖДЕНИЯ (ПЛАСТ.)         D</td>\n",
       "      <td>0</td>\n",
       "      <td>40</td>\n",
       "      <td>!In the power of obsession (plast.) D</td>\n",
       "    </tr>\n",
       "    <tr>\n",
       "      <th>1</th>\n",
       "      <td>!ABBYY FineReader 12 Professional Edition Full...</td>\n",
       "      <td>1</td>\n",
       "      <td>76</td>\n",
       "      <td>! Abbyy Finereader 12 Professional Edition Ful...</td>\n",
       "    </tr>\n",
       "    <tr>\n",
       "      <th>2</th>\n",
       "      <td>***В ЛУЧАХ СЛАВЫ   (UNV)                    D</td>\n",
       "      <td>2</td>\n",
       "      <td>40</td>\n",
       "      <td>*** In the rays of glory (unv) D</td>\n",
       "    </tr>\n",
       "    <tr>\n",
       "      <th>3</th>\n",
       "      <td>***ГОЛУБАЯ ВОЛНА  (Univ)                      D</td>\n",
       "      <td>3</td>\n",
       "      <td>40</td>\n",
       "      <td>*** Blue wave (univ) D</td>\n",
       "    </tr>\n",
       "    <tr>\n",
       "      <th>4</th>\n",
       "      <td>***КОРОБКА (СТЕКЛО)                       D</td>\n",
       "      <td>4</td>\n",
       "      <td>40</td>\n",
       "      <td>*** Box (glass) D</td>\n",
       "    </tr>\n",
       "  </tbody>\n",
       "</table>\n",
       "</div>"
      ],
      "text/plain": [
       "                                           item_name  item_id  \\\n",
       "0          ! ВО ВЛАСТИ НАВАЖДЕНИЯ (ПЛАСТ.)         D        0   \n",
       "1  !ABBYY FineReader 12 Professional Edition Full...        1   \n",
       "2      ***В ЛУЧАХ СЛАВЫ   (UNV)                    D        2   \n",
       "3    ***ГОЛУБАЯ ВОЛНА  (Univ)                      D        3   \n",
       "4        ***КОРОБКА (СТЕКЛО)                       D        4   \n",
       "\n",
       "   item_category_id                                       item_name_en  \n",
       "0                40              !In the power of obsession (plast.) D  \n",
       "1                76  ! Abbyy Finereader 12 Professional Edition Ful...  \n",
       "2                40                   *** In the rays of glory (unv) D  \n",
       "3                40                             *** Blue wave (univ) D  \n",
       "4                40                                  *** Box (glass) D  "
      ]
     },
     "execution_count": 226,
     "metadata": {},
     "output_type": "execute_result"
    }
   ],
   "source": [
    "items.head()"
   ]
  },
  {
   "cell_type": "markdown",
   "id": "9541a1b1-8ae5-48c1-8750-431c0fa81d30",
   "metadata": {},
   "source": [
    "### Item Categories Data"
   ]
  },
  {
   "cell_type": "code",
   "execution_count": 227,
   "id": "34b1b437-113c-4ac8-b297-c462e559d555",
   "metadata": {},
   "outputs": [
    {
     "data": {
      "text/plain": [
       "(84, 3)"
      ]
     },
     "execution_count": 227,
     "metadata": {},
     "output_type": "execute_result"
    }
   ],
   "source": [
    "item_categories = pd.read_csv('data/item_categories_en.csv')\n",
    "item_categories.shape"
   ]
  },
  {
   "cell_type": "code",
   "execution_count": 228,
   "id": "4fb6e1bb-451f-4d3e-8009-82169ec12618",
   "metadata": {},
   "outputs": [
    {
     "data": {
      "text/html": [
       "<div>\n",
       "<style scoped>\n",
       "    .dataframe tbody tr th:only-of-type {\n",
       "        vertical-align: middle;\n",
       "    }\n",
       "\n",
       "    .dataframe tbody tr th {\n",
       "        vertical-align: top;\n",
       "    }\n",
       "\n",
       "    .dataframe thead th {\n",
       "        text-align: right;\n",
       "    }\n",
       "</style>\n",
       "<table border=\"1\" class=\"dataframe\">\n",
       "  <thead>\n",
       "    <tr style=\"text-align: right;\">\n",
       "      <th></th>\n",
       "      <th>item_category_name</th>\n",
       "      <th>item_category_id</th>\n",
       "      <th>item_category_name_en</th>\n",
       "    </tr>\n",
       "  </thead>\n",
       "  <tbody>\n",
       "    <tr>\n",
       "      <th>0</th>\n",
       "      <td>PC - Гарнитуры/Наушники</td>\n",
       "      <td>0</td>\n",
       "      <td>PC - Headsets/Headphones</td>\n",
       "    </tr>\n",
       "    <tr>\n",
       "      <th>1</th>\n",
       "      <td>Аксессуары - PS2</td>\n",
       "      <td>1</td>\n",
       "      <td>Accessories - PS2</td>\n",
       "    </tr>\n",
       "    <tr>\n",
       "      <th>2</th>\n",
       "      <td>Аксессуары - PS3</td>\n",
       "      <td>2</td>\n",
       "      <td>Accessories - PS3</td>\n",
       "    </tr>\n",
       "    <tr>\n",
       "      <th>3</th>\n",
       "      <td>Аксессуары - PS4</td>\n",
       "      <td>3</td>\n",
       "      <td>Accessories - PS4</td>\n",
       "    </tr>\n",
       "    <tr>\n",
       "      <th>4</th>\n",
       "      <td>Аксессуары - PSP</td>\n",
       "      <td>4</td>\n",
       "      <td>Accessories - PSP</td>\n",
       "    </tr>\n",
       "  </tbody>\n",
       "</table>\n",
       "</div>"
      ],
      "text/plain": [
       "        item_category_name  item_category_id     item_category_name_en\n",
       "0  PC - Гарнитуры/Наушники                 0  PC - Headsets/Headphones\n",
       "1         Аксессуары - PS2                 1         Accessories - PS2\n",
       "2         Аксессуары - PS3                 2         Accessories - PS3\n",
       "3         Аксессуары - PS4                 3         Accessories - PS4\n",
       "4         Аксессуары - PSP                 4         Accessories - PSP"
      ]
     },
     "execution_count": 228,
     "metadata": {},
     "output_type": "execute_result"
    }
   ],
   "source": [
    "item_categories.head()"
   ]
  },
  {
   "cell_type": "markdown",
   "id": "113b7162-e20d-41d9-866d-a159f872c1ba",
   "metadata": {},
   "source": [
    "### Shops Data"
   ]
  },
  {
   "cell_type": "code",
   "execution_count": 229,
   "id": "37f6c03a-9395-4d31-8d57-e91e8b01c6b5",
   "metadata": {},
   "outputs": [
    {
     "data": {
      "text/plain": [
       "(60, 3)"
      ]
     },
     "execution_count": 229,
     "metadata": {},
     "output_type": "execute_result"
    }
   ],
   "source": [
    "shops = pd.read_csv('data/shops_en.csv')\n",
    "shops.shape"
   ]
  },
  {
   "cell_type": "code",
   "execution_count": 230,
   "id": "f9194e6b-8f93-4363-902d-377e837a553f",
   "metadata": {},
   "outputs": [
    {
     "data": {
      "text/html": [
       "<div>\n",
       "<style scoped>\n",
       "    .dataframe tbody tr th:only-of-type {\n",
       "        vertical-align: middle;\n",
       "    }\n",
       "\n",
       "    .dataframe tbody tr th {\n",
       "        vertical-align: top;\n",
       "    }\n",
       "\n",
       "    .dataframe thead th {\n",
       "        text-align: right;\n",
       "    }\n",
       "</style>\n",
       "<table border=\"1\" class=\"dataframe\">\n",
       "  <thead>\n",
       "    <tr style=\"text-align: right;\">\n",
       "      <th></th>\n",
       "      <th>shop_name</th>\n",
       "      <th>shop_id</th>\n",
       "      <th>shop_name_en</th>\n",
       "    </tr>\n",
       "  </thead>\n",
       "  <tbody>\n",
       "    <tr>\n",
       "      <th>0</th>\n",
       "      <td>!Якутск Орджоникидзе, 56 фран</td>\n",
       "      <td>0</td>\n",
       "      <td>Yakutsk - Ordzhonikidze</td>\n",
       "    </tr>\n",
       "    <tr>\n",
       "      <th>1</th>\n",
       "      <td>!Якутск ТЦ \"Центральный\" фран</td>\n",
       "      <td>1</td>\n",
       "      <td>Yakutsk - Central Mall</td>\n",
       "    </tr>\n",
       "    <tr>\n",
       "      <th>2</th>\n",
       "      <td>Адыгея ТЦ \"Мега\"</td>\n",
       "      <td>2</td>\n",
       "      <td>Adygea - Mega Mall</td>\n",
       "    </tr>\n",
       "    <tr>\n",
       "      <th>3</th>\n",
       "      <td>Балашиха ТРК \"Октябрь-Киномир\"</td>\n",
       "      <td>3</td>\n",
       "      <td>Balashikha - October-Kinomir</td>\n",
       "    </tr>\n",
       "    <tr>\n",
       "      <th>4</th>\n",
       "      <td>Волжский ТЦ \"Волга Молл\"</td>\n",
       "      <td>4</td>\n",
       "      <td>Volgograd - Volga Mall</td>\n",
       "    </tr>\n",
       "  </tbody>\n",
       "</table>\n",
       "</div>"
      ],
      "text/plain": [
       "                        shop_name  shop_id                  shop_name_en\n",
       "0   !Якутск Орджоникидзе, 56 фран        0       Yakutsk - Ordzhonikidze\n",
       "1   !Якутск ТЦ \"Центральный\" фран        1        Yakutsk - Central Mall\n",
       "2                Адыгея ТЦ \"Мега\"        2            Adygea - Mega Mall\n",
       "3  Балашиха ТРК \"Октябрь-Киномир\"        3  Balashikha - October-Kinomir\n",
       "4        Волжский ТЦ \"Волга Молл\"        4        Volgograd - Volga Mall"
      ]
     },
     "execution_count": 230,
     "metadata": {},
     "output_type": "execute_result"
    }
   ],
   "source": [
    "shops.head()"
   ]
  },
  {
   "cell_type": "markdown",
   "id": "2daade9c-c722-4485-936b-94bb2d07fbde",
   "metadata": {},
   "source": [
    "<div class=\"alert alert-block alert-info\">\n",
    "- Train Set has 2.9 millions sales entries and 6 columns <br>\n",
    "- There are 22k unique items referenced <br>\n",
    "- There are 84 unique categories of items referenced <br>\n",
    "- Products are distributed across 60 shops <br>"
   ]
  },
  {
   "cell_type": "markdown",
   "id": "9e426060-e2e3-481f-88b3-4151baec68ed",
   "metadata": {},
   "source": [
    "### Test Set"
   ]
  },
  {
   "cell_type": "code",
   "execution_count": 231,
   "id": "67284707-5707-4bfd-b022-9689487ca9ba",
   "metadata": {},
   "outputs": [
    {
     "data": {
      "text/plain": [
       "(214200, 3)"
      ]
     },
     "execution_count": 231,
     "metadata": {},
     "output_type": "execute_result"
    }
   ],
   "source": [
    "test = pd.read_csv('data/test.csv')\n",
    "test.shape"
   ]
  },
  {
   "cell_type": "code",
   "execution_count": 232,
   "id": "7ad5dfe8-c654-4761-87b1-aaf5ad02e3f1",
   "metadata": {},
   "outputs": [
    {
     "data": {
      "text/html": [
       "<div>\n",
       "<style scoped>\n",
       "    .dataframe tbody tr th:only-of-type {\n",
       "        vertical-align: middle;\n",
       "    }\n",
       "\n",
       "    .dataframe tbody tr th {\n",
       "        vertical-align: top;\n",
       "    }\n",
       "\n",
       "    .dataframe thead th {\n",
       "        text-align: right;\n",
       "    }\n",
       "</style>\n",
       "<table border=\"1\" class=\"dataframe\">\n",
       "  <thead>\n",
       "    <tr style=\"text-align: right;\">\n",
       "      <th></th>\n",
       "      <th>ID</th>\n",
       "      <th>shop_id</th>\n",
       "      <th>item_id</th>\n",
       "    </tr>\n",
       "  </thead>\n",
       "  <tbody>\n",
       "    <tr>\n",
       "      <th>0</th>\n",
       "      <td>0</td>\n",
       "      <td>5</td>\n",
       "      <td>5037</td>\n",
       "    </tr>\n",
       "    <tr>\n",
       "      <th>1</th>\n",
       "      <td>1</td>\n",
       "      <td>5</td>\n",
       "      <td>5320</td>\n",
       "    </tr>\n",
       "    <tr>\n",
       "      <th>2</th>\n",
       "      <td>2</td>\n",
       "      <td>5</td>\n",
       "      <td>5233</td>\n",
       "    </tr>\n",
       "    <tr>\n",
       "      <th>3</th>\n",
       "      <td>3</td>\n",
       "      <td>5</td>\n",
       "      <td>5232</td>\n",
       "    </tr>\n",
       "    <tr>\n",
       "      <th>4</th>\n",
       "      <td>4</td>\n",
       "      <td>5</td>\n",
       "      <td>5268</td>\n",
       "    </tr>\n",
       "  </tbody>\n",
       "</table>\n",
       "</div>"
      ],
      "text/plain": [
       "   ID  shop_id  item_id\n",
       "0   0        5     5037\n",
       "1   1        5     5320\n",
       "2   2        5     5233\n",
       "3   3        5     5232\n",
       "4   4        5     5268"
      ]
     },
     "execution_count": 232,
     "metadata": {},
     "output_type": "execute_result"
    }
   ],
   "source": [
    "test.head()"
   ]
  },
  {
   "cell_type": "markdown",
   "id": "5dfa6ef8-5c70-4180-8ffa-0c52ca95cd63",
   "metadata": {},
   "source": [
    "---"
   ]
  },
  {
   "cell_type": "markdown",
   "id": "837e7548-6db2-4380-8bd0-a68a9b2c89b7",
   "metadata": {},
   "source": [
    "# Data Exploration\n",
    "\n",
    "Definitions :\n",
    "- Counts : number of distinct items with at least one unit sold on a day\n",
    "- Volumes : Counts * nb of units sold (item_cnt_day ) \n",
    "- Sales : Volumes * Price"
   ]
  },
  {
   "cell_type": "markdown",
   "id": "530cb6da-a33b-4161-a10f-e97908e0f5f9",
   "metadata": {},
   "source": [
    "\n",
    "\n",
    "\n",
    "\n",
    "---"
   ]
  },
  {
   "cell_type": "markdown",
   "id": "9d7a2e11-d278-4987-9ee7-d9eade63e66d",
   "metadata": {},
   "source": [
    "### Missing Data"
   ]
  },
  {
   "cell_type": "code",
   "execution_count": 233,
   "id": "5ea28903-90df-4cde-be45-5808f3472da1",
   "metadata": {},
   "outputs": [
    {
     "ename": "KeyboardInterrupt",
     "evalue": "",
     "output_type": "error",
     "traceback": [
      "\u001b[1;31m---------------------------------------------------------------------------\u001b[0m",
      "\u001b[1;31mKeyboardInterrupt\u001b[0m                         Traceback (most recent call last)",
      "Cell \u001b[1;32mIn [233], line 1\u001b[0m\n\u001b[1;32m----> 1\u001b[0m \u001b[43mtrain\u001b[49m\u001b[38;5;241;43m.\u001b[39;49m\u001b[43misnull\u001b[49m\u001b[43m(\u001b[49m\u001b[43m)\u001b[49m\u001b[38;5;241m.\u001b[39msum()\n",
      "File \u001b[1;32m~\\Documents\\Kaggle\\Future_Sales\\venv\\lib\\site-packages\\pandas\\core\\frame.py:5869\u001b[0m, in \u001b[0;36mDataFrame.isnull\u001b[1;34m(self)\u001b[0m\n\u001b[0;32m   5864\u001b[0m \u001b[38;5;129m@doc\u001b[39m(NDFrame\u001b[38;5;241m.\u001b[39misna, klass\u001b[38;5;241m=\u001b[39m_shared_doc_kwargs[\u001b[38;5;124m\"\u001b[39m\u001b[38;5;124mklass\u001b[39m\u001b[38;5;124m\"\u001b[39m])\n\u001b[0;32m   5865\u001b[0m \u001b[38;5;28;01mdef\u001b[39;00m \u001b[38;5;21misnull\u001b[39m(\u001b[38;5;28mself\u001b[39m) \u001b[38;5;241m-\u001b[39m\u001b[38;5;241m>\u001b[39m DataFrame:\n\u001b[0;32m   5866\u001b[0m     \u001b[38;5;124;03m\"\"\"\u001b[39;00m\n\u001b[0;32m   5867\u001b[0m \u001b[38;5;124;03m    DataFrame.isnull is an alias for DataFrame.isna.\u001b[39;00m\n\u001b[0;32m   5868\u001b[0m \u001b[38;5;124;03m    \"\"\"\u001b[39;00m\n\u001b[1;32m-> 5869\u001b[0m     \u001b[38;5;28;01mreturn\u001b[39;00m \u001b[38;5;28;43mself\u001b[39;49m\u001b[38;5;241;43m.\u001b[39;49m\u001b[43misna\u001b[49m\u001b[43m(\u001b[49m\u001b[43m)\u001b[49m\n",
      "File \u001b[1;32m~\\Documents\\Kaggle\\Future_Sales\\venv\\lib\\site-packages\\pandas\\core\\frame.py:5861\u001b[0m, in \u001b[0;36mDataFrame.isna\u001b[1;34m(self)\u001b[0m\n\u001b[0;32m   5859\u001b[0m \u001b[38;5;129m@doc\u001b[39m(NDFrame\u001b[38;5;241m.\u001b[39misna, klass\u001b[38;5;241m=\u001b[39m_shared_doc_kwargs[\u001b[38;5;124m\"\u001b[39m\u001b[38;5;124mklass\u001b[39m\u001b[38;5;124m\"\u001b[39m])\n\u001b[0;32m   5860\u001b[0m \u001b[38;5;28;01mdef\u001b[39;00m \u001b[38;5;21misna\u001b[39m(\u001b[38;5;28mself\u001b[39m) \u001b[38;5;241m-\u001b[39m\u001b[38;5;241m>\u001b[39m DataFrame:\n\u001b[1;32m-> 5861\u001b[0m     result \u001b[38;5;241m=\u001b[39m \u001b[38;5;28mself\u001b[39m\u001b[38;5;241m.\u001b[39m_constructor(\u001b[38;5;28;43mself\u001b[39;49m\u001b[38;5;241;43m.\u001b[39;49m\u001b[43m_mgr\u001b[49m\u001b[38;5;241;43m.\u001b[39;49m\u001b[43misna\u001b[49m\u001b[43m(\u001b[49m\u001b[43mfunc\u001b[49m\u001b[38;5;241;43m=\u001b[39;49m\u001b[43misna\u001b[49m\u001b[43m)\u001b[49m)\n\u001b[0;32m   5862\u001b[0m     \u001b[38;5;28;01mreturn\u001b[39;00m result\u001b[38;5;241m.\u001b[39m__finalize__(\u001b[38;5;28mself\u001b[39m, method\u001b[38;5;241m=\u001b[39m\u001b[38;5;124m\"\u001b[39m\u001b[38;5;124misna\u001b[39m\u001b[38;5;124m\"\u001b[39m)\n",
      "File \u001b[1;32m~\\Documents\\Kaggle\\Future_Sales\\venv\\lib\\site-packages\\pandas\\core\\internals\\base.py:145\u001b[0m, in \u001b[0;36mDataManager.isna\u001b[1;34m(self, func)\u001b[0m\n\u001b[0;32m    143\u001b[0m \u001b[38;5;129m@final\u001b[39m\n\u001b[0;32m    144\u001b[0m \u001b[38;5;28;01mdef\u001b[39;00m \u001b[38;5;21misna\u001b[39m(\u001b[38;5;28mself\u001b[39m: T, func) \u001b[38;5;241m-\u001b[39m\u001b[38;5;241m>\u001b[39m T:\n\u001b[1;32m--> 145\u001b[0m     \u001b[38;5;28;01mreturn\u001b[39;00m \u001b[38;5;28;43mself\u001b[39;49m\u001b[38;5;241;43m.\u001b[39;49m\u001b[43mapply\u001b[49m\u001b[43m(\u001b[49m\u001b[38;5;124;43m\"\u001b[39;49m\u001b[38;5;124;43mapply\u001b[39;49m\u001b[38;5;124;43m\"\u001b[39;49m\u001b[43m,\u001b[49m\u001b[43m \u001b[49m\u001b[43mfunc\u001b[49m\u001b[38;5;241;43m=\u001b[39;49m\u001b[43mfunc\u001b[49m\u001b[43m)\u001b[49m\n",
      "File \u001b[1;32m~\\Documents\\Kaggle\\Future_Sales\\venv\\lib\\site-packages\\pandas\\core\\internals\\managers.py:304\u001b[0m, in \u001b[0;36mBaseBlockManager.apply\u001b[1;34m(self, f, align_keys, ignore_failures, **kwargs)\u001b[0m\n\u001b[0;32m    302\u001b[0m         applied \u001b[38;5;241m=\u001b[39m b\u001b[38;5;241m.\u001b[39mapply(f, \u001b[38;5;241m*\u001b[39m\u001b[38;5;241m*\u001b[39mkwargs)\n\u001b[0;32m    303\u001b[0m     \u001b[38;5;28;01melse\u001b[39;00m:\n\u001b[1;32m--> 304\u001b[0m         applied \u001b[38;5;241m=\u001b[39m \u001b[38;5;28mgetattr\u001b[39m(b, f)(\u001b[38;5;241m*\u001b[39m\u001b[38;5;241m*\u001b[39mkwargs)\n\u001b[0;32m    305\u001b[0m \u001b[38;5;28;01mexcept\u001b[39;00m (\u001b[38;5;167;01mTypeError\u001b[39;00m, \u001b[38;5;167;01mNotImplementedError\u001b[39;00m):\n\u001b[0;32m    306\u001b[0m     \u001b[38;5;28;01mif\u001b[39;00m \u001b[38;5;129;01mnot\u001b[39;00m ignore_failures:\n",
      "File \u001b[1;32m~\\Documents\\Kaggle\\Future_Sales\\venv\\lib\\site-packages\\pandas\\core\\internals\\blocks.py:402\u001b[0m, in \u001b[0;36mBlock.apply\u001b[1;34m(self, func, **kwargs)\u001b[0m\n\u001b[0;32m    396\u001b[0m \u001b[38;5;129m@final\u001b[39m\n\u001b[0;32m    397\u001b[0m \u001b[38;5;28;01mdef\u001b[39;00m \u001b[38;5;21mapply\u001b[39m(\u001b[38;5;28mself\u001b[39m, func, \u001b[38;5;241m*\u001b[39m\u001b[38;5;241m*\u001b[39mkwargs) \u001b[38;5;241m-\u001b[39m\u001b[38;5;241m>\u001b[39m \u001b[38;5;28mlist\u001b[39m[Block]:\n\u001b[0;32m    398\u001b[0m     \u001b[38;5;124;03m\"\"\"\u001b[39;00m\n\u001b[0;32m    399\u001b[0m \u001b[38;5;124;03m    apply the function to my values; return a block if we are not\u001b[39;00m\n\u001b[0;32m    400\u001b[0m \u001b[38;5;124;03m    one\u001b[39;00m\n\u001b[0;32m    401\u001b[0m \u001b[38;5;124;03m    \"\"\"\u001b[39;00m\n\u001b[1;32m--> 402\u001b[0m     result \u001b[38;5;241m=\u001b[39m func(\u001b[38;5;28mself\u001b[39m\u001b[38;5;241m.\u001b[39mvalues, \u001b[38;5;241m*\u001b[39m\u001b[38;5;241m*\u001b[39mkwargs)\n\u001b[0;32m    404\u001b[0m     \u001b[38;5;28;01mreturn\u001b[39;00m \u001b[38;5;28mself\u001b[39m\u001b[38;5;241m.\u001b[39m_split_op_result(result)\n",
      "File \u001b[1;32m~\\Documents\\Kaggle\\Future_Sales\\venv\\lib\\site-packages\\pandas\\core\\dtypes\\missing.py:144\u001b[0m, in \u001b[0;36misna\u001b[1;34m(obj)\u001b[0m\n\u001b[0;32m     67\u001b[0m \u001b[38;5;28;01mdef\u001b[39;00m \u001b[38;5;21misna\u001b[39m(obj):\n\u001b[0;32m     68\u001b[0m     \u001b[38;5;124;03m\"\"\"\u001b[39;00m\n\u001b[0;32m     69\u001b[0m \u001b[38;5;124;03m    Detect missing values for an array-like object.\u001b[39;00m\n\u001b[0;32m     70\u001b[0m \n\u001b[1;32m   (...)\u001b[0m\n\u001b[0;32m    142\u001b[0m \u001b[38;5;124;03m    Name: 1, dtype: bool\u001b[39;00m\n\u001b[0;32m    143\u001b[0m \u001b[38;5;124;03m    \"\"\"\u001b[39;00m\n\u001b[1;32m--> 144\u001b[0m     \u001b[38;5;28;01mreturn\u001b[39;00m \u001b[43m_isna\u001b[49m\u001b[43m(\u001b[49m\u001b[43mobj\u001b[49m\u001b[43m)\u001b[49m\n",
      "File \u001b[1;32m~\\Documents\\Kaggle\\Future_Sales\\venv\\lib\\site-packages\\pandas\\core\\dtypes\\missing.py:173\u001b[0m, in \u001b[0;36m_isna\u001b[1;34m(obj, inf_as_na)\u001b[0m\n\u001b[0;32m    171\u001b[0m     \u001b[38;5;28;01mreturn\u001b[39;00m \u001b[38;5;28;01mFalse\u001b[39;00m\n\u001b[0;32m    172\u001b[0m \u001b[38;5;28;01melif\u001b[39;00m \u001b[38;5;28misinstance\u001b[39m(obj, (np\u001b[38;5;241m.\u001b[39mndarray, ABCExtensionArray)):\n\u001b[1;32m--> 173\u001b[0m     \u001b[38;5;28;01mreturn\u001b[39;00m \u001b[43m_isna_array\u001b[49m\u001b[43m(\u001b[49m\u001b[43mobj\u001b[49m\u001b[43m,\u001b[49m\u001b[43m \u001b[49m\u001b[43minf_as_na\u001b[49m\u001b[38;5;241;43m=\u001b[39;49m\u001b[43minf_as_na\u001b[49m\u001b[43m)\u001b[49m\n\u001b[0;32m    174\u001b[0m \u001b[38;5;28;01melif\u001b[39;00m \u001b[38;5;28misinstance\u001b[39m(obj, ABCIndex):\n\u001b[0;32m    175\u001b[0m     \u001b[38;5;66;03m# Try to use cached isna, which also short-circuits for integer dtypes\u001b[39;00m\n\u001b[0;32m    176\u001b[0m     \u001b[38;5;66;03m#  and avoids materializing RangeIndex._values\u001b[39;00m\n\u001b[0;32m    177\u001b[0m     \u001b[38;5;28;01mif\u001b[39;00m \u001b[38;5;129;01mnot\u001b[39;00m obj\u001b[38;5;241m.\u001b[39m_can_hold_na:\n",
      "File \u001b[1;32m~\\Documents\\Kaggle\\Future_Sales\\venv\\lib\\site-packages\\pandas\\core\\dtypes\\missing.py:255\u001b[0m, in \u001b[0;36m_isna_array\u001b[1;34m(values, inf_as_na)\u001b[0m\n\u001b[0;32m    253\u001b[0m         result \u001b[38;5;241m=\u001b[39m values\u001b[38;5;241m.\u001b[39misna()  \u001b[38;5;66;03m# type: ignore[assignment]\u001b[39;00m\n\u001b[0;32m    254\u001b[0m \u001b[38;5;28;01melif\u001b[39;00m is_string_or_object_np_dtype(values\u001b[38;5;241m.\u001b[39mdtype):\n\u001b[1;32m--> 255\u001b[0m     result \u001b[38;5;241m=\u001b[39m \u001b[43m_isna_string_dtype\u001b[49m\u001b[43m(\u001b[49m\u001b[43mvalues\u001b[49m\u001b[43m,\u001b[49m\u001b[43m \u001b[49m\u001b[43minf_as_na\u001b[49m\u001b[38;5;241;43m=\u001b[39;49m\u001b[43minf_as_na\u001b[49m\u001b[43m)\u001b[49m\n\u001b[0;32m    256\u001b[0m \u001b[38;5;28;01melif\u001b[39;00m needs_i8_conversion(dtype):\n\u001b[0;32m    257\u001b[0m     \u001b[38;5;66;03m# this is the NaT pattern\u001b[39;00m\n\u001b[0;32m    258\u001b[0m     result \u001b[38;5;241m=\u001b[39m values\u001b[38;5;241m.\u001b[39mview(\u001b[38;5;124m\"\u001b[39m\u001b[38;5;124mi8\u001b[39m\u001b[38;5;124m\"\u001b[39m) \u001b[38;5;241m==\u001b[39m iNaT\n",
      "\u001b[1;31mKeyboardInterrupt\u001b[0m: "
     ]
    }
   ],
   "source": [
    "train.isnull().sum()"
   ]
  },
  {
   "cell_type": "markdown",
   "id": "f6dd44db-e2cc-410c-b2c1-e267a07dd6d4",
   "metadata": {},
   "source": [
    "<div class=\"alert alert-block alert-info\">\n",
    "No missing data"
   ]
  },
  {
   "cell_type": "markdown",
   "id": "cceee659-a31f-44dc-8165-5e7cee579e4f",
   "metadata": {},
   "source": [
    "### Data Types"
   ]
  },
  {
   "cell_type": "code",
   "execution_count": null,
   "id": "797effd1-62ae-4f13-b55d-51e76ab5ab0e",
   "metadata": {},
   "outputs": [],
   "source": [
    "train.info()"
   ]
  },
  {
   "cell_type": "markdown",
   "id": "c1aea9c4-2af6-491e-b342-cbf617d2c69c",
   "metadata": {},
   "source": [
    "<div class=\"alert alert-block alert-info\">\n",
    "Dataset contains: <br>\n",
    "- one datetime field<br>\n",
    "- 3 integer ID fields<br>\n",
    "- 2 float fields<br>"
   ]
  },
  {
   "cell_type": "markdown",
   "id": "7d93c094-de64-4c2a-9592-6451d3c2e31d",
   "metadata": {},
   "source": [
    "### Merge Data and add Sales"
   ]
  },
  {
   "cell_type": "code",
   "execution_count": null,
   "id": "ea55bd9f-f7c0-4b38-b48c-9d65ebd18eff",
   "metadata": {},
   "outputs": [],
   "source": [
    "data = train.merge(items, on = 'item_id', how ='left').merge(item_categories, on = 'item_category_id', how = 'left').merge(shops, on = 'shop_id', how = 'left')\n",
    "data['sales'] = data['item_price']*data['item_cnt_day']\n",
    "data['shop_city'] = data['shop_name_en'].str.extract('(.*) -')\n",
    "data.shape"
   ]
  },
  {
   "cell_type": "code",
   "execution_count": null,
   "id": "94369c34-41df-404a-bb3d-f8f7021f3d04",
   "metadata": {},
   "outputs": [],
   "source": [
    "data.head()"
   ]
  },
  {
   "cell_type": "markdown",
   "id": "b2a38acd-a4bc-4c4e-bf8d-9d54f340a9c5",
   "metadata": {},
   "source": [
    "### Dates"
   ]
  },
  {
   "cell_type": "code",
   "execution_count": null,
   "id": "b7aa35f7-40bc-433d-9eaf-519072bdb1fb",
   "metadata": {},
   "outputs": [],
   "source": [
    "data['date'] = pd.to_datetime(data['date'], format = \"%d.%m.%Y\")\n",
    "data['date_m'] = data['date'].dt.strftime('%Y-%m')\n",
    "data['date_d'] = data['date'].dt.strftime('%Y-%m-%d')"
   ]
  },
  {
   "cell_type": "code",
   "execution_count": null,
   "id": "50f46fce-e3b4-4c80-b2a3-32beeec8393f",
   "metadata": {},
   "outputs": [],
   "source": [
    "print(data['date'].min())\n",
    "print(data['date'].max())"
   ]
  },
  {
   "cell_type": "code",
   "execution_count": null,
   "id": "e4f404b9-b7b1-4824-9919-261b478f25da",
   "metadata": {},
   "outputs": [],
   "source": [
    "fig, (ax1, ax2, ax3) = plt.subplots(1, 3, figsize=(15,3))\n",
    "# Yearly Counts\n",
    "data['date'].dt.year.value_counts().plot.bar(ax = ax1)\n",
    "ax1.set_title('Yearly Counts')\n",
    "# Yearly Volumes\n",
    "data.groupby(data['date'].dt.year).agg({'item_cnt_day':'sum'}).plot.bar(ax = ax2)\n",
    "ax2.set_title('Yearly Volumes')\n",
    "ax2.legend().set_visible(False)\n",
    "ax2.set(xlabel=None)\n",
    "data.groupby(data['date'].dt.year).agg({'sales':'sum'}).plot.bar(ax = ax3)\n",
    "# Yearly Sales\n",
    "ax3.set_title('Yearly Sales')\n",
    "ax3.legend().set_visible(False)\n",
    "ax3.set(xlabel=None)"
   ]
  },
  {
   "cell_type": "markdown",
   "id": "af7914de-d211-4edf-ae85-43c9973f3cfd",
   "metadata": {},
   "source": [
    "<div class=\"alert alert-block alert-info\">\n",
    "- Dates range from Jan 2013 up to October 2015 <br>\n",
    "- Volume trend is globally decreasing with time <br>\n",
    "- Sales trend is not aligned with volume trend and has peak in 2014. <br>\n",
    "- This decorrelation between Sales and Volumes could be explained either by a difference in the products sold or by a price evolution"
   ]
  },
  {
   "cell_type": "code",
   "execution_count": null,
   "id": "350270bd-7123-429c-a3b9-9674c903ab91",
   "metadata": {},
   "outputs": [],
   "source": [
    "monthly_volumes = data.groupby(data['date_m']).agg({'item_cnt_day':'sum'})\n",
    "monthly_sales = data.groupby(data['date_m']).agg({'sales':'sum'})\n",
    "\n",
    "plot_barplots(monthly_volumes, monthly_sales, \"Monthly Volumes\", \"Monthly Sales\")"
   ]
  },
  {
   "cell_type": "markdown",
   "id": "c0ce10d4-deea-4590-8a81-c62cea32d8f4",
   "metadata": {},
   "source": [
    "<div class=\"alert alert-block alert-info\">\n",
    "We can observe a seasonality with peak at year end <br>"
   ]
  },
  {
   "cell_type": "code",
   "execution_count": null,
   "id": "9665bedb-4225-45c4-a81a-8f566e90ab85",
   "metadata": {},
   "outputs": [],
   "source": [
    "top_volumes = data.groupby(data['date_d']).agg({'item_cnt_day':'sum'}).sort_values(by = 'item_cnt_day', ascending = False).head(50)\n",
    "top_sales = data.groupby(data['date_d']).agg({'sales':'sum'}).sort_values(by = 'sales', ascending = False).head(50)\n",
    "\n",
    "plot_barplots(top_volumes, top_sales, \"Top 50 Volume Dates\", \"Top 50 Sales Dates\", share_axis = False, height = 8)"
   ]
  },
  {
   "cell_type": "markdown",
   "id": "5b7910b7-7ddd-49ab-977f-312ec859a2d2",
   "metadata": {},
   "source": [
    "<div class=\"alert alert-block alert-info\">\n",
    "Peak dates are mostly last days of the year<br>\n",
    "29-11-2013 was an extreme high in sales"
   ]
  },
  {
   "cell_type": "code",
   "execution_count": null,
   "id": "892d2b17-5b5f-47f9-8812-71723e817cb7",
   "metadata": {},
   "outputs": [],
   "source": [
    "bottom_volumes = data.groupby(data['date_d']).agg({'item_cnt_day':'sum'}).sort_values(by = 'item_cnt_day', ascending = False).tail(50)\n",
    "bottom_sales = data.groupby(data['date_d']).agg({'sales':'sum'}).sort_values(by = 'sales', ascending = False).tail(50)\n",
    "\n",
    "plot_barplots(bottom_volumes, bottom_sales, \"Bottom 50 Volume Dates\", \"Bottom 50 Sales Dates\", share_axis = False, height = 8)"
   ]
  },
  {
   "cell_type": "markdown",
   "id": "06c33db7-ceec-4b9e-900c-dd5bd47aa531",
   "metadata": {},
   "source": [
    "### Shops"
   ]
  },
  {
   "cell_type": "code",
   "execution_count": null,
   "id": "95d00de0-2cff-4243-8847-cb7f3854cbfd",
   "metadata": {},
   "outputs": [],
   "source": [
    "data['shop_id'].nunique()"
   ]
  },
  {
   "cell_type": "code",
   "execution_count": null,
   "id": "a970d6f4-d72d-4246-b096-4f3d72d68655",
   "metadata": {},
   "outputs": [],
   "source": [
    "shop_volumes = data.groupby('shop_id').agg({'item_cnt_day':'sum'})\n",
    "shop_sales = data.groupby('shop_id').agg({'sales':'sum'})\n",
    "\n",
    "plot_barplots(shop_volumes, shop_sales, \"Shops Global Volumes\", \"Shops Global Sales\")"
   ]
  },
  {
   "cell_type": "markdown",
   "id": "1e1adb3f-abb0-4097-9b9d-9acca5776574",
   "metadata": {},
   "source": [
    "<div class=\"alert alert-block alert-info\">\n",
    "All 60 referenced shops are present in sales data <br>\n",
    "There are strong discrepancies of volumes and sales between shops <br>"
   ]
  },
  {
   "cell_type": "raw",
   "id": "9666b207-d485-4efc-88e9-3efa035763e7",
   "metadata": {},
   "source": [
    "shop_rank_volumes = data.groupby('shop_id').agg({'item_cnt_day':'sum'}).sort_values(by ='item_cnt_day', ascending=False)\n",
    "shop_rank_sales = data.groupby('shop_id').agg({'sales':'sum'}).sort_values(by ='sales', ascending=False)\n",
    "\n",
    "plot_barplots(shop_rank_volumes, shop_rank_sales, \"Shops Rank - Global Volumes\", \"Shops Rank - Global Sales\", share_axis = False)"
   ]
  },
  {
   "cell_type": "code",
   "execution_count": null,
   "id": "1caf70be-5bd5-425f-a067-6d4039a4b4bb",
   "metadata": {},
   "outputs": [],
   "source": [
    "shop_rank_volumes = data.groupby('shop_name_en').agg({'item_cnt_day':'sum'}).sort_values(by ='item_cnt_day')\n",
    "shop_rank_sales = data.groupby('shop_name_en').agg({'sales':'sum'}).sort_values(by ='sales')\n",
    "\n",
    "plot_horizontal_barplots(shop_rank_volumes, shop_rank_sales, \"Shops Rank - Global Volumes\", \"Shops Rank - Global Sales\", share_axis = False)"
   ]
  },
  {
   "cell_type": "markdown",
   "id": "b2d3e983-3c6e-4404-bcd7-c5a472131e88",
   "metadata": {},
   "source": [
    "<div class=\"alert alert-block alert-info\">\n",
    "\n",
    "Shops with best volumes and / or sales are located in Moscow and St Petersbourg   \n",
    "    \n",
    "We can notice some difference in the ranks in volume and sales <br>\n",
    "It could be explained either by <br>\n",
    "    - a difference in the products sold<br>\n",
    "    - a difference in the pricing <br>\n",
    "    - both"
   ]
  },
  {
   "cell_type": "code",
   "execution_count": null,
   "id": "c259b5f8-2cc8-4b1f-adf4-b7b1f4e9af92",
   "metadata": {},
   "outputs": [],
   "source": [
    "monthly_shop = data.groupby(['shop_name_en','date_block_num']).agg({'item_cnt_day':'sum','sales':'sum'})\n",
    "\n",
    "shop_rank_monthly_volumes = monthly_shop.groupby('shop_name_en').agg({'item_cnt_day':'mean'}).sort_values(by ='item_cnt_day')\n",
    "shop_rank_monthly_sales = monthly_shop.groupby('shop_name_en').agg({'sales':'mean'}).sort_values(by ='sales')\n",
    "\n",
    "plot_horizontal_barplots(shop_rank_monthly_volumes, shop_rank_monthly_sales, \"Shops Rank - Monthly Volumes\", \"Shops Rank - Monthly Sales\", share_axis = False)"
   ]
  },
  {
   "cell_type": "markdown",
   "id": "09a27fbb-d8e6-4b5a-b107-120610d9434d",
   "metadata": {},
   "source": [
    "<div class=\"alert alert-block alert-info\">\n",
    "Looking at the average monthly figures we can observe a few shops going up in the rank (Yakutsk shops and Outbound Trade) <br>\n",
    "This is probably due to a difference in the number of months with sales between shops <br>"
   ]
  },
  {
   "cell_type": "code",
   "execution_count": null,
   "id": "c4b7b36b-893e-42dd-9a73-d37fecb6ad73",
   "metadata": {},
   "outputs": [],
   "source": [
    "f, ax = plt.subplots(figsize=(8,15))\n",
    "\n",
    "# Shop Volumes\n",
    "data.groupby(['shop_name_en']).agg({\"date_block_num\" : \"nunique\"}).sort_values(by ='date_block_num').plot.barh(ax=ax)\n",
    "ax.legend().set_visible(False)\n",
    "ax.set_title('Nb of sales months per Shop')"
   ]
  },
  {
   "cell_type": "code",
   "execution_count": null,
   "id": "235a65dc-d72a-48fd-a68e-1e4c3cf66bd5",
   "metadata": {},
   "outputs": [],
   "source": [
    "data.groupby(['shop_id']).agg({\"date_block_num\" : \"nunique\"})['date_block_num'].value_counts().sort_index(ascending = False)"
   ]
  },
  {
   "cell_type": "markdown",
   "id": "d43506e3-c0be-4b0a-94e0-65705318f99e",
   "metadata": {},
   "source": [
    "<div class=\"alert alert-block alert-info\">\n",
    "Only half of the shops have sales records in all 34 months of observations <br>\n",
    "10 shops have less than 10 months of data <br>\n",
    "5 shops have less than 2 months of data <br>"
   ]
  },
  {
   "cell_type": "code",
   "execution_count": null,
   "id": "d77f1e3c-8dcf-4edd-ab98-294837e8c7b2",
   "metadata": {},
   "outputs": [],
   "source": [
    "# number of selling shops for each month\n",
    "f, ax = plt.subplots(figsize=(15,3))\n",
    "\n",
    "# Shop Volumes\n",
    "data.groupby(['date_m']).agg({\"shop_id\" : \"nunique\"}).plot.bar(ax=ax)\n",
    "ax.legend().set_visible(False)\n",
    "ax.set_title('Nb of active shops for each month')"
   ]
  },
  {
   "cell_type": "markdown",
   "id": "af3d6db3-3d1d-422d-a58e-3e2a54e31ff6",
   "metadata": {},
   "source": [
    "<div class=\"alert alert-block alert-info\">\n",
    "Number of active shops is fluctuating over the period between 42 and 52"
   ]
  },
  {
   "cell_type": "code",
   "execution_count": null,
   "id": "dcae25c6-09bf-4807-b91c-83cefa5b657c",
   "metadata": {},
   "outputs": [],
   "source": [
    "monthly_shop = data.groupby(['shop_city','date_block_num']).agg({'item_cnt_day':'sum','sales':'sum'})\n",
    "\n",
    "shop_rank_monthly_volumes = monthly_shop.groupby('shop_city').agg({'item_cnt_day':'mean'}).sort_values(by ='item_cnt_day')\n",
    "shop_rank_monthly_sales = monthly_shop.groupby('shop_city').agg({'sales':'mean'}).sort_values(by ='sales')\n",
    "\n",
    "plot_horizontal_barplots(shop_rank_monthly_volumes, shop_rank_monthly_sales, \"City Rank - Monthly Volumes\", \"City Rank - Monthly Sales\", share_axis = False, width = 10, height = 6)"
   ]
  },
  {
   "cell_type": "markdown",
   "id": "1d732ac6-3d52-4129-9eef-7334e69ceda6",
   "metadata": {},
   "source": [
    "#### Shops Market Share"
   ]
  },
  {
   "cell_type": "code",
   "execution_count": null,
   "id": "cbbfe1cb-1d1a-4f86-89bb-b106b047c68b",
   "metadata": {},
   "outputs": [],
   "source": [
    "shop_volumes = data.groupby('shop_name_en').agg({'item_cnt_day':'sum'}).sort_values('item_cnt_day',ascending = False)\n",
    "shop_volumes['volume_pct'] = round(shop_volumes['item_cnt_day'] / data['item_cnt_day'].sum()*100,2)\n",
    "shop_volumes['volume_cum_pct'] = shop_volumes['volume_pct'].cumsum()\n",
    "shop_volumes.head(20)"
   ]
  },
  {
   "cell_type": "code",
   "execution_count": null,
   "id": "847e2225-d759-45c7-871f-354976d965c9",
   "metadata": {},
   "outputs": [],
   "source": [
    "shop_sales = data.groupby('shop_name_en').agg({'sales':'sum'}).sort_values('sales',ascending = False)\n",
    "shop_sales['sales_pct'] = round(shop_sales['sales'] / data['sales'].sum()*100,2)\n",
    "shop_sales['sales_cum_pct'] = shop_sales['sales_pct'].cumsum()\n",
    "shop_sales.head(20)"
   ]
  },
  {
   "cell_type": "markdown",
   "id": "9b219a6e-389e-46d9-b662-9ee430529a15",
   "metadata": {},
   "source": [
    "<div class=\"alert alert-block alert-info\">\n",
    "the 4th biggest moscow shops represents 25% of the overall sales volume and 22% of sales"
   ]
  },
  {
   "cell_type": "code",
   "execution_count": null,
   "id": "6ffc1ac1-f592-4d85-b36e-eb777cad0fe6",
   "metadata": {},
   "outputs": [],
   "source": [
    "shops.iloc[10:12]"
   ]
  },
  {
   "cell_type": "code",
   "execution_count": null,
   "id": "dfb89c62-9d62-4425-b901-2a91fbcf279e",
   "metadata": {},
   "outputs": [],
   "source": [
    "check = data.groupby(['shop_id']).agg({\"date_m\" : \"nunique\"})\n",
    "check.iloc[10:12]"
   ]
  },
  {
   "cell_type": "code",
   "execution_count": null,
   "id": "b4241348-574e-4f1b-a2a6-015f23f75fd8",
   "metadata": {},
   "outputs": [],
   "source": [
    "data[data['shop_id']==11].date_m.unique()"
   ]
  },
  {
   "cell_type": "code",
   "execution_count": null,
   "id": "36559720-b4ff-48de-95ac-5f02cdae4938",
   "metadata": {},
   "outputs": [],
   "source": [
    "data[data['shop_id']==10].date_m.unique()"
   ]
  },
  {
   "cell_type": "markdown",
   "id": "366bc3d5-c3dd-4d96-b7e1-c48fc57f00c5",
   "metadata": {},
   "source": [
    "<div class=\"alert alert-block alert-info\">\n",
    "Shop ID 10 and 11 have the same name. Shop 11 only has one month of sale which is the only one without sale for shop 10. We can assume that this is the same shop."
   ]
  },
  {
   "cell_type": "code",
   "execution_count": null,
   "id": "bbc1c6c2-f644-4997-a98f-bbe154072f8d",
   "metadata": {},
   "outputs": [],
   "source": [
    "check = data.groupby(['shop_id']).agg({\"date_m\" : \"nunique\"})\n",
    "shop_activity= shops.merge(check, on = 'shop_id', how = 'left')\n",
    "test_shops = test.shop_id.unique()\n",
    "shop_activity[shop_activity['shop_id'].isin(test_shops)]"
   ]
  },
  {
   "cell_type": "code",
   "execution_count": null,
   "id": "bd4ef987-6338-41a8-9731-04e14ed9fa88",
   "metadata": {},
   "outputs": [],
   "source": [
    "shop_activity[shop_activity['shop_id'].isin(test_shops)].date_m.value_counts()"
   ]
  },
  {
   "cell_type": "markdown",
   "id": "cfbadcc4-8a02-4320-bcf3-ea6a2524d1bd",
   "metadata": {},
   "source": [
    "<div class=\"alert alert-block alert-info\">\n",
    "The test set contains 42 shops of which 37 have more than 30 months of sales history. <br>\n",
    "Let's look at the 5 other shops more in detail"
   ]
  },
  {
   "cell_type": "code",
   "execution_count": null,
   "id": "572cc777-6727-4763-b619-b63cbb393371",
   "metadata": {},
   "outputs": [],
   "source": [
    "data[data['shop_id']==34].date_m.unique()"
   ]
  },
  {
   "cell_type": "code",
   "execution_count": null,
   "id": "a18b090c-9a63-42ad-94a0-9185d62b8192",
   "metadata": {},
   "outputs": [],
   "source": [
    "data[data['shop_id']==39].date_m.unique()"
   ]
  },
  {
   "cell_type": "code",
   "execution_count": null,
   "id": "17076752-7a99-41d1-ad1a-bfcba76c005a",
   "metadata": {},
   "outputs": [],
   "source": [
    "data[data['shop_id']==48].date_m.unique()"
   ]
  },
  {
   "cell_type": "code",
   "execution_count": null,
   "id": "6a7179f4-8536-4b42-aacc-8063727b04f8",
   "metadata": {},
   "outputs": [],
   "source": [
    "data[data['shop_id']==49].date_m.unique()"
   ]
  },
  {
   "cell_type": "code",
   "execution_count": null,
   "id": "d6a14529-13e0-4d6c-9c28-e9bf5274eaa1",
   "metadata": {},
   "outputs": [],
   "source": [
    "data[data['shop_id']==36].date_m.unique()"
   ]
  },
  {
   "cell_type": "code",
   "execution_count": null,
   "id": "28361a5d-adf4-4ab1-8b60-90b98cfa7b00",
   "metadata": {},
   "outputs": [],
   "source": [
    "data[data['shop_id']==36].date_d.unique()"
   ]
  },
  {
   "cell_type": "markdown",
   "id": "a97a8e2a-1f34-47e4-b3ba-0781d0c717cd",
   "metadata": {},
   "source": [
    "<div class=\"alert alert-block alert-info\">\n",
    "All those shops had a starting activity after 2014.<br>\n",
    "In particular shop 36 (Gallery Novosibirsk) only has activity on the last 15 days of observation"
   ]
  },
  {
   "cell_type": "markdown",
   "id": "271b6130-97c0-42dd-b7fc-1e9dff519368",
   "metadata": {},
   "source": [
    "### Items "
   ]
  },
  {
   "cell_type": "code",
   "execution_count": null,
   "id": "16e51cde-58c9-4ab3-a864-e7363f39859a",
   "metadata": {},
   "outputs": [],
   "source": [
    "print(data['item_id'].nunique())\n",
    "print(items['item_id'].nunique())\n",
    "print(test['item_id'].nunique())"
   ]
  },
  {
   "cell_type": "code",
   "execution_count": null,
   "id": "a44d664e-9c9f-4cf3-8eb4-6f2f6679ff84",
   "metadata": {},
   "outputs": [],
   "source": [
    "all_items = set(items['item_id'].to_list())\n",
    "data_items = set(data['item_id'].to_list())\n",
    "missing = [item for item in all_items if item not in data_items]\n",
    "len(missing)"
   ]
  },
  {
   "cell_type": "code",
   "execution_count": null,
   "id": "0d58e828-0535-4825-a09b-8f78cadb46a1",
   "metadata": {},
   "outputs": [],
   "source": [
    "test_items = set(test['item_id'].to_list())\n",
    "print(len([a for a in test_items if a in missing]))\n",
    "print(len(missing) / items.shape[0])"
   ]
  },
  {
   "cell_type": "markdown",
   "id": "cb633f07-e262-424b-8137-10efaaaddb6e",
   "metadata": {},
   "source": [
    "<div class=\"alert alert-block alert-info\">\n",
    "The test set contains 363 items that are not present in training set <br>\n",
    "This represents 1.6% of all referenced items <br>\n",
    "We'll need a solution for that"
   ]
  },
  {
   "cell_type": "code",
   "execution_count": null,
   "id": "d9030bd3-3106-4b97-b146-1ec4989e1b0a",
   "metadata": {},
   "outputs": [],
   "source": [
    "item_stats = data.groupby('item_id').agg({'item_cnt_day':'sum','sales':'sum','shop_id':'nunique','date_block_num':'nunique', 'item_price':'mean'}).reset_index()"
   ]
  },
  {
   "cell_type": "markdown",
   "id": "0b462f56-c71a-4871-ae57-fba5690cb796",
   "metadata": {},
   "source": [
    "#### Volume"
   ]
  },
  {
   "cell_type": "code",
   "execution_count": null,
   "id": "65b5ec3f-24e3-4c29-a951-edaa645bef5a",
   "metadata": {},
   "outputs": [],
   "source": [
    "item_stats['item_cnt_day'].describe().astype(int)"
   ]
  },
  {
   "cell_type": "markdown",
   "id": "5b1ce090-47ea-48d7-ab7d-70921d4e16f4",
   "metadata": {},
   "source": [
    "<div class=\"alert alert-block alert-info\">\n",
    "mean volume is 167 <br>\n",
    "median volume is 33 <br>\n",
    "max volume is 187,642"
   ]
  },
  {
   "cell_type": "code",
   "execution_count": null,
   "id": "40751c44-fb54-4d50-8ee9-036ea32714a2",
   "metadata": {},
   "outputs": [],
   "source": [
    "plot_quantiles(item_stats,'item_cnt_day', title='Item Volumes Quantiles')"
   ]
  },
  {
   "cell_type": "code",
   "execution_count": null,
   "id": "95db6235-7666-47eb-9e5b-bf857c522ac0",
   "metadata": {},
   "outputs": [],
   "source": [
    "values = [1, 10, 100, 1000, 2000]\n",
    "get_quantiles_from_values(item_stats, 'item_cnt_day', values, 'volume')"
   ]
  },
  {
   "cell_type": "code",
   "execution_count": null,
   "id": "024a94c2-03f6-4306-80fe-bdc1206bdf33",
   "metadata": {},
   "outputs": [],
   "source": [
    "item_stats.iloc[item_stats.item_cnt_day.idxmax()]"
   ]
  },
  {
   "cell_type": "markdown",
   "id": "253ab0ad-7048-4cae-a7ec-050f98c1a970",
   "metadata": {},
   "source": [
    "<div class=\"alert alert-block alert-info\">\n",
    "Item ID 20949 is the best selling Item in volume with 187,642 units sold for a total sales amount of 928,863 dollars  <br>\n",
    "It is a cheap item with an average price of 4.91 Ruble <br>\n",
    "This item has sales record in 31 of the 34 observation months and was sold in 53 shops.<br>\n",
    "We can also notice that some items have negative volumes let's dig further"
   ]
  },
  {
   "cell_type": "code",
   "execution_count": null,
   "id": "a2063681-1bca-4ed5-955f-d577cc0d7da5",
   "metadata": {},
   "outputs": [],
   "source": [
    "data['item_cnt_day'].value_counts().sort_index().head(10)"
   ]
  },
  {
   "cell_type": "code",
   "execution_count": null,
   "id": "ec9b6e05-6acc-444a-82af-7a027b1e9fd4",
   "metadata": {},
   "outputs": [],
   "source": [
    "data[data['item_cnt_day']==-22]"
   ]
  },
  {
   "cell_type": "code",
   "execution_count": null,
   "id": "c38950f1-270e-4f6f-90b3-bd97f3083e87",
   "metadata": {},
   "outputs": [],
   "source": [
    "data[data['item_id']==8023].sort_values(by = ['date_d']).tail(20)"
   ]
  },
  {
   "cell_type": "code",
   "execution_count": null,
   "id": "cb0a4ae5-5cdf-4225-a3ca-bdeda79ef758",
   "metadata": {},
   "outputs": [],
   "source": [
    "data[data['item_cnt_day']==-9]"
   ]
  },
  {
   "cell_type": "code",
   "execution_count": null,
   "id": "d8883368-23fc-42fe-b628-3e46de56cee6",
   "metadata": {},
   "outputs": [],
   "source": [
    "data[(data['item_id']==9242) & (abs(data['item_cnt_day'])==9)]"
   ]
  },
  {
   "cell_type": "code",
   "execution_count": null,
   "id": "6713b1a8-4d91-4ac6-a82d-8f075c64e1e9",
   "metadata": {},
   "outputs": [],
   "source": [
    "data[data['item_cnt_day']==-6]"
   ]
  },
  {
   "cell_type": "code",
   "execution_count": null,
   "id": "ed178f54-5ed5-41da-b369-1addd62b30a7",
   "metadata": {},
   "outputs": [],
   "source": [
    "data[(data['item_id']==3732) & (abs(data['item_cnt_day'])==6) & (data['shop_id']==42)].sort_values(by = ['date_d'])"
   ]
  },
  {
   "cell_type": "code",
   "execution_count": null,
   "id": "a5bd0f9c-4265-409c-976a-d6a4e1bc565d",
   "metadata": {},
   "outputs": [],
   "source": [
    "data[data['item_cnt_day']==-1]"
   ]
  },
  {
   "cell_type": "code",
   "execution_count": null,
   "id": "c288eb77-7b15-494e-884a-e0604106950b",
   "metadata": {},
   "outputs": [],
   "source": [
    "data[(data['item_id']==2552) & (data['shop_id']==25)].sort_values(by = ['date_d'])"
   ]
  },
  {
   "cell_type": "code",
   "execution_count": null,
   "id": "f9cc3e0f-766c-4b2e-b76d-ccca82d538fa",
   "metadata": {},
   "outputs": [],
   "source": [
    "data[(data['item_id']==4896) & (data['shop_id']==25)].sort_values(by = ['date_d'])"
   ]
  },
  {
   "cell_type": "markdown",
   "id": "de3c4a7e-e000-40ff-b0ea-89b43b25e04e",
   "metadata": {},
   "source": [
    "<div class=\"alert alert-block alert-info\">\n",
    "Looking at examples cases with negative number of units sold, we can observe that they always follow a sale with similar positive volume<br>\n",
    "We can then assume that negative values are product returns <br>\n",
    "We could think of offsetting these negative sum operations but our goal is to project monthly sales, regardless of whether they will lead to returns later on<br>\n",
    "However we also observed negative value for aggregated volumes of some items"
   ]
  },
  {
   "cell_type": "code",
   "execution_count": null,
   "id": "b8ab9928-358b-429c-b06d-f0a32055adc1",
   "metadata": {},
   "outputs": [],
   "source": [
    "bug_id = item_stats[item_stats['item_cnt_day']<1]['item_id'].to_list()\n",
    "data[data['item_id'].isin(bug_id)].sort_values(by = 'item_id')"
   ]
  },
  {
   "cell_type": "code",
   "execution_count": null,
   "id": "38ec042a-1d62-423c-b36c-2eadbe8e6e70",
   "metadata": {},
   "outputs": [],
   "source": [
    "test[test['item_id'].isin(bug_id)]"
   ]
  },
  {
   "cell_type": "markdown",
   "id": "7916e203-0dda-4fea-93c5-75db0a08dd32",
   "metadata": {},
   "source": [
    "<div class=\"alert alert-block alert-info\">\n",
    "a few items have an aggregated negative number of units sold  <br>\n",
    "We can notice that all these items are sold in 2013. We can assume that they were sales for these items prior to the start of observation period.<br>\n",
    "None of these items are present in the test set so we can remove them <br>"
   ]
  },
  {
   "cell_type": "markdown",
   "id": "c50d0ef4-7aa4-42ff-b6e2-b3915a2d448a",
   "metadata": {},
   "source": [
    "#### Sales"
   ]
  },
  {
   "cell_type": "code",
   "execution_count": null,
   "id": "95d43adc-4ea2-4b2f-bfeb-462c549f38c9",
   "metadata": {},
   "outputs": [],
   "source": [
    "plot_quantiles(item_stats, 'sales', title='Item Sales Quantiles')"
   ]
  },
  {
   "cell_type": "code",
   "execution_count": null,
   "id": "a5eab8ae-6f79-478a-91ef-074db4f803fe",
   "metadata": {},
   "outputs": [],
   "source": [
    "values = [100, 1000, 10000, 100000, 1000000]\n",
    "get_quantiles_from_values(item_stats, 'sales', values, 'sales')"
   ]
  },
  {
   "cell_type": "code",
   "execution_count": null,
   "id": "11aed87f-c76d-4de7-ad22-2dd54b1f7262",
   "metadata": {},
   "outputs": [],
   "source": [
    "item_stats[item_stats['sales']>100000000]"
   ]
  },
  {
   "cell_type": "markdown",
   "id": "f47f0174-61e2-402e-8714-2235bac78760",
   "metadata": {},
   "source": [
    "<div class=\"alert alert-block alert-info\">\n",
    "Item ID 6675 is the best selling Item in sales with 10,289 units sold for a total sales amount of 219M dollars  <br>\n",
    "It is an expensive item with an average price of 22,113$ <br>\n",
    "This item has sales record in 24 of the 34 observation months and was sold in 532 shops."
   ]
  },
  {
   "cell_type": "markdown",
   "id": "83f95de7-81a1-4120-9757-f2b6b1bcf109",
   "metadata": {},
   "source": [
    "#### Shops presence per item"
   ]
  },
  {
   "cell_type": "code",
   "execution_count": null,
   "id": "821c12b5-1087-4346-9eb1-a0ecebc759ef",
   "metadata": {},
   "outputs": [],
   "source": [
    "plot_quantiles(item_stats, 'shop_id', title='Number of shops per item - Quantiles')"
   ]
  },
  {
   "cell_type": "code",
   "execution_count": null,
   "id": "d94c94a5-cb7f-4db3-a9a9-f84d5d559643",
   "metadata": {},
   "outputs": [],
   "source": [
    "values = [1, 3, 5, 10, 30, 40, 50]\n",
    "get_quantiles_from_values(item_stats, 'shop_id', values, 'number of shops')"
   ]
  },
  {
   "cell_type": "markdown",
   "id": "8078d1fd-bad7-4b99-9008-40934cb2141d",
   "metadata": {},
   "source": [
    "### Items Price"
   ]
  },
  {
   "cell_type": "code",
   "execution_count": null,
   "id": "f70ff8ac-1b94-466b-96e7-ca64ae8fd6f5",
   "metadata": {},
   "outputs": [],
   "source": [
    "print(data['item_price'].nunique())\n",
    "print(data['item_id'].nunique())"
   ]
  },
  {
   "cell_type": "markdown",
   "id": "97ff0f93-0b35-4d82-8843-66f86af8441a",
   "metadata": {},
   "source": [
    "##### Before doing price statistics we will keep only one occurence of the same product price"
   ]
  },
  {
   "cell_type": "code",
   "execution_count": null,
   "id": "493f3709-22d8-4ed2-b8f9-ac1a138c4cf9",
   "metadata": {},
   "outputs": [],
   "source": [
    "price = data.drop_duplicates(['item_id','item_price'])\n",
    "price.shape"
   ]
  },
  {
   "cell_type": "code",
   "execution_count": null,
   "id": "2f2654eb-ed7a-4ffa-9375-57bfacf9302c",
   "metadata": {},
   "outputs": [],
   "source": [
    "price['item_price'].describe().astype(int)"
   ]
  },
  {
   "cell_type": "markdown",
   "id": "5ac0ad65-6ac1-4344-848c-caad5d8ffe69",
   "metadata": {},
   "source": [
    "<div class=\"alert alert-block alert-info\">\n",
    "mean price is 1,000 dollars <br>\n",
    "median price is 399 dollars <br>\n",
    "max price is around 300,000 dollars"
   ]
  },
  {
   "cell_type": "code",
   "execution_count": null,
   "id": "d514fa37-619f-4396-8b92-2acd7d59f64d",
   "metadata": {},
   "outputs": [],
   "source": [
    "plot_quantiles(price, 'item_price', title='Item Price Quantiles')"
   ]
  },
  {
   "cell_type": "code",
   "execution_count": null,
   "id": "0b2a2633-e86a-4adf-9e3b-93c72c054f0a",
   "metadata": {},
   "outputs": [],
   "source": [
    "values = [50, 100, 500, 1000, 5000]\n",
    "get_quantiles_from_values(price, 'item_price', values, 'price')"
   ]
  },
  {
   "cell_type": "code",
   "execution_count": null,
   "id": "d410dcc1-a375-4dd9-8505-b352ee0718d5",
   "metadata": {},
   "outputs": [],
   "source": [
    "price[price['item_price']<0]"
   ]
  },
  {
   "cell_type": "code",
   "execution_count": null,
   "id": "5da033b3-1ef0-449d-8c6a-c943783c0e33",
   "metadata": {},
   "outputs": [],
   "source": [
    "data[(data['item_id']==2973) & (data['shop_id']==32)]"
   ]
  },
  {
   "cell_type": "markdown",
   "id": "e117e933-0baf-43b2-a012-32a163cec8ca",
   "metadata": {},
   "source": [
    "<div class=\"alert alert-block alert-info\">\n",
    "1 item has negative price but we can correct this price by looking at the other sales for the same product in the same shop <br>\n",
    "It is a bit tricky as the prior sale price was 2499 and the next sale price after was 1249 (looks like a 50% discount) <br>\n",
    "We will use the original price which is the most frequent: 2499 <br>"
   ]
  },
  {
   "cell_type": "code",
   "execution_count": null,
   "id": "8368095c-d688-42ce-bd21-da2384dc50f1",
   "metadata": {},
   "outputs": [],
   "source": [
    "data.loc[data['item_price']==-1,'item_price'] = 2499"
   ]
  },
  {
   "cell_type": "code",
   "execution_count": null,
   "id": "8e4a5e38-6476-4d4f-89e1-2edeba867542",
   "metadata": {},
   "outputs": [],
   "source": [
    "item_price = price.groupby('item_id').agg({'item_price':'nunique'}).reset_index()"
   ]
  },
  {
   "cell_type": "code",
   "execution_count": null,
   "id": "9c3aa5c8-282c-4d54-9fea-614aadd90ca2",
   "metadata": {},
   "outputs": [],
   "source": [
    "item_price"
   ]
  },
  {
   "cell_type": "code",
   "execution_count": null,
   "id": "11f61b9e-32d5-4b66-a7c3-3d7a54c05e91",
   "metadata": {},
   "outputs": [],
   "source": [
    "plot_quantiles(item_price, 'item_price', title='Number of different prices for an item')"
   ]
  },
  {
   "cell_type": "code",
   "execution_count": null,
   "id": "db463383-6816-4aef-9508-f149fd06898d",
   "metadata": {},
   "outputs": [],
   "source": [
    "values = [1,2,3,5, 10, 20 ,50]\n",
    "get_quantiles_from_values(item_price, 'item_price', values, 'nb of Prices')"
   ]
  },
  {
   "cell_type": "markdown",
   "id": "bf8585d5-537e-4cd6-b919-02652844737c",
   "metadata": {},
   "source": [
    "<div class=\"alert alert-block alert-info\">\n",
    "half of the items have less than 3 different prices <br>\n",
    "89% have less than 10 prices<br>\n",
    "1% of the items have more than 45 different prices <br>\n",
    "Price variation could be influenced by the following factors:<br>\n",
    "- Date of the sale (with underlying economical context)<br>\n",
    "- Shop of the sale <br>\n",
    "- Potential discounts applied <br><br>\n",
    "\n",
    "Let's dig further into this"
   ]
  },
  {
   "cell_type": "code",
   "execution_count": null,
   "id": "98af4e8c-50d1-4c91-9b55-4a41494a7544",
   "metadata": {},
   "outputs": [],
   "source": [
    "item_shop_price = price.groupby(['item_id','shop_id']).agg({'item_price':'nunique'}).reset_index()"
   ]
  },
  {
   "cell_type": "code",
   "execution_count": null,
   "id": "84a7ddc1-1a5f-48fe-81ce-e3a53e9f65ab",
   "metadata": {},
   "outputs": [],
   "source": [
    "plot_quantiles(item_shop_price, 'item_price', title='Number of different prices for a couple shop - item')"
   ]
  },
  {
   "cell_type": "code",
   "execution_count": null,
   "id": "47c16faa-aa26-49f1-a377-dbb5f9467d97",
   "metadata": {},
   "outputs": [],
   "source": [
    "values = [1,2,3, 5, 10]\n",
    "get_quantiles_from_values(item_shop_price, 'item_price', values, 'nb of Prices')"
   ]
  },
  {
   "cell_type": "markdown",
   "id": "0f62666c-af83-49f2-8ba0-10ab2ee7f56b",
   "metadata": {},
   "source": [
    "<div class=\"alert alert-block alert-info\">\n",
    "Looking at item price per shop, 95% of the item have less than 3 different prices<br>\n",
    "Price variance is mostly explained by shops <br>"
   ]
  },
  {
   "cell_type": "code",
   "execution_count": null,
   "id": "0afa1a16-e987-4d5f-85f9-c5d3dceca90c",
   "metadata": {},
   "outputs": [],
   "source": [
    "high_variation = item_shop_price[item_shop_price['item_price']>20]"
   ]
  },
  {
   "cell_type": "code",
   "execution_count": null,
   "id": "42546843-44f5-482f-91ac-ae1c1ef8b3d4",
   "metadata": {},
   "outputs": [],
   "source": [
    "high_variation['item_id'].value_counts()"
   ]
  },
  {
   "cell_type": "code",
   "execution_count": null,
   "id": "400234fa-23dd-467f-8697-a68a7e731842",
   "metadata": {},
   "outputs": [],
   "source": [
    "item_outlier = price[price['item_id']==17717]\n",
    "item_outlier['item_price'].describe()"
   ]
  },
  {
   "cell_type": "code",
   "execution_count": null,
   "id": "1e1ff9a3-cbb6-469a-9739-efefed83d7c0",
   "metadata": {},
   "outputs": [],
   "source": [
    "items[items['item_id']==17717]"
   ]
  },
  {
   "cell_type": "code",
   "execution_count": null,
   "id": "d135bb02-18a9-496e-ba21-f3192ba5be1c",
   "metadata": {},
   "outputs": [],
   "source": [
    "17717 in test['item_id']"
   ]
  },
  {
   "cell_type": "markdown",
   "id": "0548ccb1-3089-4841-8ade-57f1d3adc970",
   "metadata": {},
   "source": [
    "<div class=\"alert alert-block alert-info\">\n",
    "Looking at items with very high price variation on same shop (above 20), we can notice that one item is standing out (item ID 17717) <br>\n",
    "This item is called \"Reception of funds 1C-Online\" and is under the Service Category.<br>\n",
    "This is probably related to some online services provided by 1C or maybe only payment card<br>\n",
    "This ID is present in the test set so we can't remove it <br>\n",
    "Price for this item ranges from 9 to 16790 which is very strange"
   ]
  },
  {
   "cell_type": "code",
   "execution_count": null,
   "id": "0a15bc42-ba13-4b53-8ff5-2c4e34dc8311",
   "metadata": {},
   "outputs": [],
   "source": [
    "high_variation['shop_id'].value_counts()"
   ]
  },
  {
   "cell_type": "code",
   "execution_count": null,
   "id": "5bc90efd-0bb6-4d36-a177-d328fd514c3f",
   "metadata": {},
   "outputs": [],
   "source": [
    "shops.iloc[12]"
   ]
  },
  {
   "cell_type": "code",
   "execution_count": null,
   "id": "4fc15db9-d242-4bc0-9a33-677e114a637b",
   "metadata": {},
   "outputs": [],
   "source": [
    "shop_outlier = item_shop_price[item_shop_price['shop_id']==12].sort_values('item_price')\n",
    "shop_outlier = shop_outlier[shop_outlier['item_price']>20]\n",
    "shop_outlier"
   ]
  },
  {
   "cell_type": "code",
   "execution_count": null,
   "id": "4f0eba4d-eebc-482e-aaf8-27b54da9abd4",
   "metadata": {},
   "outputs": [],
   "source": [
    "for item in [11365, 11369, 11370, 11371, 11372, 11373, 13753, 13754]:\n",
    "    temp = price[price['item_id']==item]['item_price']\n",
    "    name = items[items['item_id']==item]['item_name_en'].values[0]\n",
    "    item_category = items[items['item_id']==item]['item_category_id'].values[0]\n",
    "    item_category_name = item_categories[item_categories['item_category_id']==item_category]['item_category_name_en'].values[0]\n",
    "    \n",
    "    print('item name is {} , category is {} min price is {}, max price is {}, median price is {}'.format(name, item_category_name, int(temp.min()), int(temp.max()), int(temp.median())))"
   ]
  },
  {
   "cell_type": "code",
   "execution_count": null,
   "id": "742236eb-1eeb-4935-8d8c-6490977b06b1",
   "metadata": {},
   "outputs": [],
   "source": [
    "item_categories[item_categories['item_category_name_en']==\"Delivery of Goods\"]"
   ]
  },
  {
   "cell_type": "code",
   "execution_count": null,
   "id": "d5dbef9b-532d-4833-bcd1-470d01018e37",
   "metadata": {},
   "outputs": [],
   "source": [
    "deliveries = data[data['item_category_id']==9]\n",
    "deliveries.shop_name_en.unique()"
   ]
  },
  {
   "cell_type": "markdown",
   "id": "83b77ea0-4413-4356-b5f6-90b5aed0b4c9",
   "metadata": {},
   "source": [
    "<div class=\"alert alert-block alert-info\">\n",
    "Looking at shop with very high price variation on given items (above 20), one shop is standing out (shop ID 12) <br>\n",
    "This shop is the online shop <br>\n",
    "It has 8 items with high variation<br>\n",
    "These items are in the category delivery of goods (which is exclusive to the online shop)<br> \n",
    "They might be delivery fees<br>\n",
    "These items are present in the test set so we can't remove them <br>"
   ]
  },
  {
   "cell_type": "code",
   "execution_count": null,
   "id": "dfbb3401-0639-4408-a836-102861ece533",
   "metadata": {},
   "outputs": [],
   "source": [
    "variation = item_shop_price[item_shop_price['item_price']>5]\n",
    "variation = variation.merge(items, on = 'item_id', how = 'left').merge(item_categories, on = 'item_category_id', how='left')\n",
    "variation.groupby('item_category_name_en').agg({'item_id':'nunique'}).sort_values(by ='item_id', ascending = False)"
   ]
  },
  {
   "cell_type": "code",
   "execution_count": null,
   "id": "1ee1c81e-3bca-4566-90f7-3e2b8c2ca1bb",
   "metadata": {},
   "outputs": [],
   "source": [
    "variation.head()"
   ]
  },
  {
   "cell_type": "code",
   "execution_count": null,
   "id": "238db20b-ed4e-4494-91d0-42f6b67946cd",
   "metadata": {},
   "outputs": [],
   "source": [
    "check = data[(data['item_id']==31) & (data['shop_id']==31)]"
   ]
  },
  {
   "cell_type": "code",
   "execution_count": null,
   "id": "078c184b-fcfc-4d01-8c80-6ee7b0977de2",
   "metadata": {},
   "outputs": [],
   "source": [
    "check.groupby('date_m').agg({'item_price':'mean','item_cnt_day':'sum'})"
   ]
  },
  {
   "cell_type": "markdown",
   "id": "b9afb5e8-b58b-4fe1-9c60-d11368b7cd82",
   "metadata": {},
   "source": [
    "<div class=\"alert alert-block alert-info\">\n",
    "More generally, items with price variation above 5 are mostly movies and games <br>\n",
    "Looking at a specific example we can observe that the value of these items are decreasing with time and sales volumes as well <br>\n",
    "We shall consider the first date of sell for each item to assess the recency of an item <br>"
   ]
  },
  {
   "cell_type": "markdown",
   "id": "abaac297-f70f-417d-93f5-82f3a7a85ba8",
   "metadata": {},
   "source": [
    "### Item Categories"
   ]
  },
  {
   "cell_type": "code",
   "execution_count": null,
   "id": "ac447442-20c3-47cf-a5da-5123673b7faf",
   "metadata": {},
   "outputs": [],
   "source": [
    "items"
   ]
  },
  {
   "cell_type": "code",
   "execution_count": null,
   "id": "3349d111-10a1-4992-9a23-f53510d35d03",
   "metadata": {},
   "outputs": [],
   "source": [
    "categories_share = round(pd.DataFrame(items.item_category_id.value_counts(normalize = True))*100,2)\n",
    "categories_share['cumulative_pct'] = categories_share['item_category_id'].cumsum()\n",
    "categories_share = categories_share.rename(columns = {'item_category_id':'items_pct'})\n",
    "categories_share = categories_share.merge(item_categories, left_index = True, right_on = 'item_category_id', how='left')\n",
    "categories_share.head(20)"
   ]
  },
  {
   "cell_type": "markdown",
   "id": "76c32d23-54fc-46e2-a94b-b0c923c0b129",
   "metadata": {},
   "source": [
    "<div class=\"alert alert-block alert-info\">\n",
    "There are 84 categories of items <br>\n",
    "Category ID 40 (Movie - DVD) represents 22% of the referenced items <br>\n",
    "Top 5 categories represent 50% of the reference items <br>\n",
    "top 20 categories cover 80% of the referenced items"
   ]
  },
  {
   "cell_type": "code",
   "execution_count": null,
   "id": "80c37b91-78d2-4917-af48-04fbd08a49b3",
   "metadata": {},
   "outputs": [],
   "source": [
    "categories_volumes = data.groupby('item_category_name_en').agg({'item_cnt_day':'sum'}).sort_values('item_cnt_day')\n",
    "categories_sales = data.groupby('item_category_name_en').agg({'sales':'sum'}).sort_values('sales')\n",
    "\n",
    "plot_horizontal_barplots(categories_volumes, categories_sales, \"Global Volumes by Item Category\", \"Global Sales by Item Category\", share_axis = False, width = 20, height = 15)"
   ]
  },
  {
   "cell_type": "code",
   "execution_count": null,
   "id": "b323ee2e-aeae-4eb7-aed5-e048d347e82b",
   "metadata": {},
   "outputs": [],
   "source": [
    "categories_volumes = categories_volumes.sort_values('item_cnt_day',ascending = False)\n",
    "categories_volumes['volume_pct'] = round(categories_volumes['item_cnt_day'] / data['item_cnt_day'].sum()*100,2)\n",
    "categories_volumes['volume_cum_pct'] = categories_volumes['volume_pct'].cumsum()\n",
    "categories_volumes = categories_volumes.merge(item_categories, left_index = True, right_on = 'item_category_name_en', how = 'left')\n",
    "categories_volumes.head(20)"
   ]
  },
  {
   "cell_type": "markdown",
   "id": "1aec611e-d2ff-4e3d-95fc-0c60ecac6f2d",
   "metadata": {},
   "source": [
    "<div class=\"alert alert-block alert-info\">\n",
    "Category ID 40 (Movie - DVD) represents 18% of the volume of sold items<br>\n",
    "Top 5 categories Includes Movies (DVD & BluRay), Games (PC & PS3) and Local Music CDs and it represent 52% of the volume of sold items <br>\n",
    "top 20 categories cover 84% of the volume sold"
   ]
  },
  {
   "cell_type": "code",
   "execution_count": null,
   "id": "caf3b0ad-1012-4c28-b809-38b259627ddf",
   "metadata": {},
   "outputs": [],
   "source": [
    "categories_sales = categories_sales.sort_values('sales',ascending = False)\n",
    "categories_sales['sales_pct'] = round(categories_sales['sales'] / data['sales'].sum()*100,2)\n",
    "categories_sales['sales_cum_pct'] = categories_sales['sales_pct'].cumsum()\n",
    "categories_sales = categories_sales.merge(item_categories, left_index = True, right_on = 'item_category_name_en', how = 'left')\n",
    "categories_sales.head(20)"
   ]
  },
  {
   "cell_type": "markdown",
   "id": "9d669f2c-a6bb-40a8-bfc0-fcbb423e2bdf",
   "metadata": {},
   "source": [
    "<div class=\"alert alert-block alert-info\">\n",
    "Category ID 19 (Games - PS3) represents 12% of the total amount of sales<br>\n",
    "Top 5 categories are Games categories and represent 46% of the sales <br>\n",
    "top 20 categories cover 80% of the sales"
   ]
  },
  {
   "cell_type": "code",
   "execution_count": null,
   "id": "1663572e-6a53-492e-adf9-491f86ad856b",
   "metadata": {},
   "outputs": [],
   "source": [
    "monthly_categories = data.groupby(['date_m','item_category_name_en']).agg({'item_cnt_day':'sum','sales':'sum','item_id':'nunique'}).reset_index()\n",
    "monthly_categories"
   ]
  },
  {
   "cell_type": "code",
   "execution_count": null,
   "id": "69b9afb5-538b-4812-b214-f25d58595766",
   "metadata": {},
   "outputs": [],
   "source": [
    "categories_sales"
   ]
  },
  {
   "cell_type": "code",
   "execution_count": null,
   "id": "b59296af-1146-49bd-aaaf-a3992483f38b",
   "metadata": {},
   "outputs": [],
   "source": [
    "top_categories = categories_volumes['item_category_name_en'].head(5).to_list()\n",
    "\n",
    "monthly_categories_top = monthly_categories[monthly_categories['item_category_name_en'].isin(top_categories)]\n",
    "\n",
    "fig, ax = plt.subplots(figsize=(15, 6))\n",
    "sns.lineplot(x = \"date_m\", y = \"item_cnt_day\", hue='item_category_name_en', data = monthly_categories_top, )\n",
    "plt.xticks(rotation = 90)\n",
    "plt.show()"
   ]
  },
  {
   "cell_type": "markdown",
   "id": "1755e3b3-1520-44aa-a623-18bf4d7c2377",
   "metadata": {},
   "source": [
    "<div class=\"alert alert-block alert-info\">\n",
    "Volumes for the main categories have been decreasing strongly over the observation period"
   ]
  },
  {
   "cell_type": "markdown",
   "id": "8cb25c35-0825-4265-b363-d7d6fab6618a",
   "metadata": {},
   "source": [
    "### Seasonality"
   ]
  },
  {
   "cell_type": "markdown",
   "id": "2d7caef3-036f-46c8-b6ce-31286d3406f4",
   "metadata": {},
   "source": [
    "#### Global seasonality"
   ]
  },
  {
   "cell_type": "code",
   "execution_count": null,
   "id": "fbbf69af-6e7e-43eb-ac61-71cb0ea83226",
   "metadata": {},
   "outputs": [],
   "source": [
    "monhtly_data = data.groupby(['date_m']).agg({'item_cnt_day':'sum','sales':'sum','item_id':'nunique', 'item_price':'mean'}).reset_index()\n",
    "monhtly_data['date_m'] = pd.to_datetime(monhtly_data['date_m'], format = '%Y-%m')\n",
    "monhtly_data.set_index('date_m', inplace=True)"
   ]
  },
  {
   "cell_type": "code",
   "execution_count": null,
   "id": "44a78401-8a33-40c5-b2a6-f9d3a4022566",
   "metadata": {},
   "outputs": [],
   "source": [
    "seasonal_volume = pd.pivot_table(monhtly_data, index=monhtly_data.index.month, columns=monhtly_data.index.year,\n",
    "                    values='item_cnt_day', aggfunc='sum')\n",
    "\n",
    "seasonal_sales = pv = pd.pivot_table(monhtly_data, index=monhtly_data.index.month, columns=monhtly_data.index.year,\n",
    "                    values='sales', aggfunc='sum')\n",
    "\n",
    "seasonal_price = pv = pd.pivot_table(monhtly_data, index=monhtly_data.index.month, columns=monhtly_data.index.year,\n",
    "                    values='item_price', aggfunc='sum')\n",
    "\n",
    "fig, (ax1, ax2, ax3) = plt.subplots(1,3, figsize=(25,4))\n",
    "sns.lineplot(data=seasonal_volume, ax = ax1)\n",
    "ax1.set_xlabel(\"Months\")\n",
    "ax1.set_ylabel(\"Volume\")\n",
    "ax1.set_title(\"Sales Volum month/year\")\n",
    "\n",
    "sns.lineplot(data=seasonal_sales, ax =ax2)\n",
    "ax2.set_xlabel(\"Months\")\n",
    "ax2.set_ylabel(\"Sales\")\n",
    "ax2.set_title(\"Sales month/year\")\n",
    "\n",
    "sns.lineplot(data=seasonal_price, ax =ax3)\n",
    "ax3.set_xlabel(\"Months\")\n",
    "ax3.set_ylabel(\"Average Price\")\n",
    "ax3.set_title(\"Average Price month/year\")"
   ]
  },
  {
   "cell_type": "code",
   "execution_count": null,
   "id": "015251f2-b292-433a-af13-41d569193572",
   "metadata": {},
   "outputs": [],
   "source": [
    "decompose_result_mult = seasonal_decompose(monhtly_data['item_cnt_day'], model=\"multiplicative\")\n",
    "trend = decompose_result_mult.trend\n",
    "seasonal = decompose_result_mult.seasonal\n",
    "residual = decompose_result_mult.resid\n",
    "fig = decompose_result_mult.plot()\n",
    "fig.set_size_inches((9, 6))\n",
    "fig.tight_layout()\n",
    "plt.show()"
   ]
  },
  {
   "cell_type": "code",
   "execution_count": null,
   "id": "37543d6f-703c-455c-8bd8-bd3978c861e1",
   "metadata": {},
   "outputs": [],
   "source": [
    "decompose_result_mult = seasonal_decompose(monhtly_data['sales'], model=\"multiplicative\")\n",
    "trend = decompose_result_mult.trend\n",
    "seasonal = decompose_result_mult.seasonal\n",
    "residual = decompose_result_mult.resid\n",
    "fig = decompose_result_mult.plot()\n",
    "fig.set_size_inches((9, 6))\n",
    "fig.tight_layout()\n",
    "plt.show()"
   ]
  },
  {
   "cell_type": "code",
   "execution_count": null,
   "id": "5fa653ac-8d0f-4ef2-9330-36a1422e1358",
   "metadata": {},
   "outputs": [],
   "source": [
    "decompose_result_mult = seasonal_decompose(monhtly_data['item_id'], model=\"multiplicative\")\n",
    "trend = decompose_result_mult.trend\n",
    "seasonal = decompose_result_mult.seasonal\n",
    "residual = decompose_result_mult.resid\n",
    "fig = decompose_result_mult.plot()\n",
    "fig.set_size_inches((9, 6))\n",
    "fig.tight_layout()\n",
    "plt.show()"
   ]
  },
  {
   "cell_type": "code",
   "execution_count": null,
   "id": "7d00fe84-9ff1-40b2-83a7-baf64f010cb4",
   "metadata": {},
   "outputs": [],
   "source": [
    "decompose_result_mult = seasonal_decompose(monhtly_data['item_price'], model=\"multiplicative\")\n",
    "trend = decompose_result_mult.trend\n",
    "seasonal = decompose_result_mult.seasonal\n",
    "residual = decompose_result_mult.resid\n",
    "fig = decompose_result_mult.plot()\n",
    "fig.set_size_inches((9, 6))\n",
    "fig.tight_layout()\n",
    "plt.show()"
   ]
  },
  {
   "cell_type": "markdown",
   "id": "0950ee2b-5b39-40b6-9544-baa235976a91",
   "metadata": {},
   "source": [
    "<div class=\"alert alert-block alert-info\">\n",
    "The global seasonality is quite clear. We can observe peaks each year at year end and lows around summer time <br>\n",
    "In terms of trend, we can observe differents: <br>\n",
    "- Volumes and number of items sold are decreasing over the period <br>\n",
    "- Sales have their peak in 2014 <br>\n",
    "- Average Item Price is increasing    "
   ]
  },
  {
   "cell_type": "markdown",
   "id": "3ec962c7-4d8f-425c-bf84-dacbb51d4243",
   "metadata": {},
   "source": [
    "#### Categories seasonality"
   ]
  },
  {
   "cell_type": "code",
   "execution_count": null,
   "id": "034fd20b-d416-4682-9749-d47d60dfe794",
   "metadata": {},
   "outputs": [],
   "source": [
    "monthly_categories = data.groupby(['date_m','item_category_id']).agg({'item_cnt_day':'sum','sales':'sum','item_id':'nunique', 'item_price':'mean'}).reset_index()\n",
    "monthly_categories['date_m'] = pd.to_datetime(monthly_categories['date_m'], format = '%Y-%m')\n",
    "monthly_categories.set_index('date_m', inplace=True)"
   ]
  },
  {
   "cell_type": "code",
   "execution_count": null,
   "id": "1cfd8cf4-ceaf-4c89-b715-85af04c05ff6",
   "metadata": {
    "scrolled": true,
    "tags": []
   },
   "outputs": [],
   "source": [
    "# volumes per top 5 categories and special categories like Online shop and Service\n",
    "for category in monthly_categories.item_category_id.unique():\n",
    "    category_name = item_categories[item_categories['item_category_id']== category]['item_category_name_en'].values[0]\n",
    "    print(category_name, 'volume')\n",
    "    df = monthly_categories[monthly_categories['item_category_id']==category]\n",
    "    if df.shape[0]==34:\n",
    "        decompose_result_mult = seasonal_decompose(df['item_cnt_day'], model=\"multiplicative\")\n",
    "        trend = decompose_result_mult.trend\n",
    "        seasonal = decompose_result_mult.seasonal\n",
    "        residual = decompose_result_mult.resid\n",
    "        f, (ax1, ax2, ax3) = plt.subplots(1, 3, figsize=(25,2))\n",
    "        ax1.plot(trend)\n",
    "        ax2.plot(seasonal)\n",
    "        ax3.plot(residual)\n",
    "        plt.show()\n",
    "    else:\n",
    "        print('not enough months for this category')"
   ]
  },
  {
   "cell_type": "markdown",
   "id": "b20f04aa-f033-45a4-bb2b-39331ac1022f",
   "metadata": {},
   "source": [
    "<div class=\"alert alert-block alert-info\">\n",
    "Volume Trends are different for each categorie <br>\n",
    "It is mostly decreasing but for some categories we can also observe increasing trends "
   ]
  }
 ],
 "metadata": {
  "kernelspec": {
   "display_name": "sales",
   "language": "python",
   "name": "sales"
  },
  "language_info": {
   "codemirror_mode": {
    "name": "ipython",
    "version": 3
   },
   "file_extension": ".py",
   "mimetype": "text/x-python",
   "name": "python",
   "nbconvert_exporter": "python",
   "pygments_lexer": "ipython3",
   "version": "3.10.4"
  }
 },
 "nbformat": 4,
 "nbformat_minor": 5
}
